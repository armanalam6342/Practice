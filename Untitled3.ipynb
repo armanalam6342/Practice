{
  "nbformat": 4,
  "nbformat_minor": 0,
  "metadata": {
    "colab": {
      "name": "Untitled3.ipynb",
      "provenance": [],
      "collapsed_sections": [],
      "authorship_tag": "ABX9TyMpeLqS02B1jgKbuUdvSVvX",
      "include_colab_link": true
    },
    "kernelspec": {
      "name": "python3",
      "display_name": "Python 3"
    },
    "language_info": {
      "name": "python"
    }
  },
  "cells": [
    {
      "cell_type": "markdown",
      "metadata": {
        "id": "view-in-github",
        "colab_type": "text"
      },
      "source": [
        "<a href=\"https://colab.research.google.com/github/armanalam6342/Practice/blob/main/Untitled3.ipynb\" target=\"_parent\"><img src=\"https://colab.research.google.com/assets/colab-badge.svg\" alt=\"Open In Colab\"/></a>"
      ]
    },
    {
      "cell_type": "markdown",
      "metadata": {
        "id": "nPcGW97EbbcU"
      },
      "source": [
        "Exercise 2: Given a range of the first 10 numbers, Iterate from the start number to the end number, and In each iteration print the sum of the current number and previous number"
      ]
    },
    {
      "cell_type": "code",
      "metadata": {
        "id": "FNulHpXEbk_7"
      },
      "source": [
        "def adding (num):  \n",
        "  sum1 = 0\n",
        "  for i in num:\n",
        "    s = i+ sum1\n",
        "    sum1 = i\n",
        "    print(s)\n",
        "\n"
      ],
      "execution_count": 18,
      "outputs": []
    },
    {
      "cell_type": "code",
      "metadata": {
        "colab": {
          "base_uri": "https://localhost:8080/"
        },
        "id": "7bSQRE3l8ACs",
        "outputId": "538e82eb-50b7-4159-8e87-25622a841c0e"
      },
      "source": [
        "adding(range(10))"
      ],
      "execution_count": 19,
      "outputs": [
        {
          "output_type": "stream",
          "text": [
            "0\n",
            "1\n",
            "3\n",
            "5\n",
            "7\n",
            "9\n",
            "11\n",
            "13\n",
            "15\n",
            "17\n"
          ],
          "name": "stdout"
        }
      ]
    },
    {
      "cell_type": "code",
      "metadata": {
        "id": "61tuYLdFcA6l"
      },
      "source": [
        ""
      ],
      "execution_count": 19,
      "outputs": []
    },
    {
      "cell_type": "markdown",
      "metadata": {
        "id": "JdYMF0dYeWRi"
      },
      "source": [
        "Exercise 4: Given a string and an integer number n, remove characters from a string starting from zero up to n and return a new string"
      ]
    },
    {
      "cell_type": "code",
      "metadata": {
        "colab": {
          "base_uri": "https://localhost:8080/",
          "height": 69
        },
        "id": "6hgN2noHekIa",
        "outputId": "7f3904cc-66c7-4f7c-8a12-0251dfc61032"
      },
      "source": [
        "string = str(input())\n",
        "integer = int(input())\n",
        "string[integer:]"
      ],
      "execution_count": 20,
      "outputs": [
        {
          "output_type": "stream",
          "text": [
            "arman\n",
            "2\n"
          ],
          "name": "stdout"
        },
        {
          "output_type": "execute_result",
          "data": {
            "application/vnd.google.colaboratory.intrinsic+json": {
              "type": "string"
            },
            "text/plain": [
              "'man'"
            ]
          },
          "metadata": {
            "tags": []
          },
          "execution_count": 20
        }
      ]
    },
    {
      "cell_type": "code",
      "metadata": {
        "id": "4ymmRVaye0Dn"
      },
      "source": [
        "def removechar(str, n):\n",
        "  return str[n:]\n"
      ],
      "execution_count": 21,
      "outputs": []
    },
    {
      "cell_type": "code",
      "metadata": {
        "colab": {
          "base_uri": "https://localhost:8080/",
          "height": 35
        },
        "id": "cKIDjgZofIsA",
        "outputId": "fb3883be-1650-4184-b3bc-1bf3777ef326"
      },
      "source": [
        "removechar('arman', 3)"
      ],
      "execution_count": 22,
      "outputs": [
        {
          "output_type": "execute_result",
          "data": {
            "application/vnd.google.colaboratory.intrinsic+json": {
              "type": "string"
            },
            "text/plain": [
              "'an'"
            ]
          },
          "metadata": {
            "tags": []
          },
          "execution_count": 22
        }
      ]
    },
    {
      "cell_type": "markdown",
      "metadata": {
        "id": "JfzCAhjhgbGi"
      },
      "source": [
        "Exercise 5: Given a list of numbers, return True if first and last number of a list is same"
      ]
    },
    {
      "cell_type": "code",
      "metadata": {
        "id": "A7I4OQi0gfGC"
      },
      "source": [
        "def equal_or_not(list1):\n",
        "  return list1[0]==list1[-1]"
      ],
      "execution_count": 23,
      "outputs": []
    },
    {
      "cell_type": "code",
      "metadata": {
        "colab": {
          "base_uri": "https://localhost:8080/"
        },
        "id": "tEBshnlQgzWL",
        "outputId": "384acfb7-a439-4ebc-eb15-155745e2344c"
      },
      "source": [
        "equal_or_not([10, 20, 30, 40, 10])"
      ],
      "execution_count": 24,
      "outputs": [
        {
          "output_type": "execute_result",
          "data": {
            "text/plain": [
              "True"
            ]
          },
          "metadata": {
            "tags": []
          },
          "execution_count": 24
        }
      ]
    },
    {
      "cell_type": "code",
      "metadata": {
        "colab": {
          "base_uri": "https://localhost:8080/"
        },
        "id": "3JizKwyog4ua",
        "outputId": "8b55b658-1349-49da-da67-0be7600f97d4"
      },
      "source": [
        "equal_or_not([10, 20, 30, 40, 50])"
      ],
      "execution_count": 25,
      "outputs": [
        {
          "output_type": "execute_result",
          "data": {
            "text/plain": [
              "False"
            ]
          },
          "metadata": {
            "tags": []
          },
          "execution_count": 25
        }
      ]
    },
    {
      "cell_type": "markdown",
      "metadata": {
        "id": "Hl4iVzg4hStZ"
      },
      "source": [
        "Exercise 6: Given a list of numbers, Iterate it and print only those numbers which are divisible of 5"
      ]
    },
    {
      "cell_type": "code",
      "metadata": {
        "id": "9zV98rP3iAq0"
      },
      "source": [
        ""
      ],
      "execution_count": 25,
      "outputs": []
    },
    {
      "cell_type": "code",
      "metadata": {
        "id": "Yxsr7IlXhTfw"
      },
      "source": [
        "def divisible_by_5(n):\n",
        "  a = []\n",
        "  for i in n:\n",
        "    if i%5 == 0:\n",
        "      a.append(i)\n",
        "  return a"
      ],
      "execution_count": 26,
      "outputs": []
    },
    {
      "cell_type": "code",
      "metadata": {
        "colab": {
          "base_uri": "https://localhost:8080/"
        },
        "id": "eO83AmErh3pB",
        "outputId": "a00b41b9-a8e0-4fd6-f31e-8dbb795fe955"
      },
      "source": [
        "divisible_by_5([10, 20, 33, 46, 55])"
      ],
      "execution_count": 27,
      "outputs": [
        {
          "output_type": "execute_result",
          "data": {
            "text/plain": [
              "[10, 20, 55]"
            ]
          },
          "metadata": {
            "tags": []
          },
          "execution_count": 27
        }
      ]
    },
    {
      "cell_type": "code",
      "metadata": {
        "id": "7PXEUyQAh86f"
      },
      "source": [
        "def divisible_by(n):\n",
        "  for i in n:\n",
        "    if i%5 == 0:\n",
        "      print(i)\n",
        "      "
      ],
      "execution_count": 28,
      "outputs": []
    },
    {
      "cell_type": "code",
      "metadata": {
        "colab": {
          "base_uri": "https://localhost:8080/"
        },
        "id": "9n7kNmqqixAT",
        "outputId": "4ca997a8-9ec4-44fa-ffe4-1d4dc287ef19"
      },
      "source": [
        "divisible_by([10, 20, 33, 46, 55])"
      ],
      "execution_count": 29,
      "outputs": [
        {
          "output_type": "stream",
          "text": [
            "10\n",
            "20\n",
            "55\n"
          ],
          "name": "stdout"
        }
      ]
    },
    {
      "cell_type": "code",
      "metadata": {
        "id": "ob1pqgpNi1xr"
      },
      "source": [
        ""
      ],
      "execution_count": 29,
      "outputs": []
    },
    {
      "cell_type": "markdown",
      "metadata": {
        "id": "e56QuXWHjDlz"
      },
      "source": [
        "Return the count of sub-string “Emma” appears in the given string"
      ]
    },
    {
      "cell_type": "code",
      "metadata": {
        "colab": {
          "base_uri": "https://localhost:8080/"
        },
        "id": "M8-Go5OWjEra",
        "outputId": "f592d298-2da9-4f00-9b77-f0254f6c12d4"
      },
      "source": [
        "str = \"Emma is good developer. Emma is a writer\"\n",
        "print(f\"Emma comes {str.count('Emma')} times\")"
      ],
      "execution_count": 30,
      "outputs": [
        {
          "output_type": "stream",
          "text": [
            "Emma comes 2 times\n"
          ],
          "name": "stdout"
        }
      ]
    },
    {
      "cell_type": "code",
      "metadata": {
        "colab": {
          "base_uri": "https://localhost:8080/"
        },
        "id": "tdDpSbU4jLzL",
        "outputId": "77f5ddcc-e37d-451c-c14a-8725e419cf53"
      },
      "source": [
        "str = input('your string')\n",
        "str1 = input('whats your choice to count')\n",
        "print(f\"your {str1} comes {str.count(str1)} times in {str}\")"
      ],
      "execution_count": 31,
      "outputs": [
        {
          "output_type": "stream",
          "text": [
            "your stringarman alam\n",
            "whats your choice to countm\n",
            "your m comes 2 times in arman alam\n"
          ],
          "name": "stdout"
        }
      ]
    },
    {
      "cell_type": "code",
      "metadata": {
        "id": "P5MjhHRdlGJN"
      },
      "source": [
        ""
      ],
      "execution_count": 31,
      "outputs": []
    },
    {
      "cell_type": "markdown",
      "metadata": {
        "id": "XpooisXFwnCJ"
      },
      "source": [
        "Reverse a given number and return true if it is the same as the original number"
      ]
    },
    {
      "cell_type": "code",
      "metadata": {
        "id": "cVZDheawwoKg"
      },
      "source": [
        "orignal_number = input()\n",
        "if orignal_number == str(orignal_number)[::-1]:\n",
        "  print(\"The original and reverse number is the same\")\n",
        "elif orignal_number != orignal_number[-1]:\n",
        "  print(\"The original and reverse number is not same\")\n"
      ],
      "execution_count": null,
      "outputs": []
    },
    {
      "cell_type": "markdown",
      "metadata": {
        "id": "tOP_A_2u9xXn"
      },
      "source": [
        "Print multiplication table form 1 to 10"
      ]
    },
    {
      "cell_type": "code",
      "metadata": {
        "colab": {
          "base_uri": "https://localhost:8080/"
        },
        "id": "ga2ugC6W94NL",
        "outputId": "b0672ec7-2438-4c78-f467-7a4c57668331"
      },
      "source": [
        "for i in range(1,11):\n",
        "  for j in range(1,11):\n",
        "    print(j*i,end=' ')\n",
        "  print(\"\\t\\t\")"
      ],
      "execution_count": 33,
      "outputs": [
        {
          "output_type": "stream",
          "text": [
            "1 2 3 4 5 6 7 8 9 10 \t\t\n",
            "2 4 6 8 10 12 14 16 18 20 \t\t\n",
            "3 6 9 12 15 18 21 24 27 30 \t\t\n",
            "4 8 12 16 20 24 28 32 36 40 \t\t\n",
            "5 10 15 20 25 30 35 40 45 50 \t\t\n",
            "6 12 18 24 30 36 42 48 54 60 \t\t\n",
            "7 14 21 28 35 42 49 56 63 70 \t\t\n",
            "8 16 24 32 40 48 56 64 72 80 \t\t\n",
            "9 18 27 36 45 54 63 72 81 90 \t\t\n",
            "10 20 30 40 50 60 70 80 90 100 \t\t\n"
          ],
          "name": "stdout"
        }
      ]
    },
    {
      "cell_type": "markdown",
      "metadata": {
        "id": "PK755srK_R0r"
      },
      "source": [
        "Make peramid"
      ]
    },
    {
      "cell_type": "code",
      "metadata": {
        "colab": {
          "base_uri": "https://localhost:8080/"
        },
        "id": "O8DJyFlm-S3g",
        "outputId": "9e67a49d-dd5c-4b9e-95f3-ca5028491aed"
      },
      "source": [
        "a=int(input())\n",
        "for i in range(a):\n",
        "  print(i*'*',end=\" \")\n",
        "  print('\\t\\t')"
      ],
      "execution_count": 34,
      "outputs": [
        {
          "output_type": "stream",
          "text": [
            "5\n",
            " \t\t\n",
            "* \t\t\n",
            "** \t\t\n",
            "*** \t\t\n",
            "**** \t\t\n"
          ],
          "name": "stdout"
        }
      ]
    },
    {
      "cell_type": "markdown",
      "metadata": {
        "id": "oMiXGzLF_XTJ"
      },
      "source": [
        "Find leap year\n",
        "\n",
        "Given a year, determine whether it is a leap year. If it is a leap year, return the Boolean True, otherwise return False.\n",
        "\n",
        "Note that the code stub provided reads from STDIN and passes arguments to the is_leap function. It is only necessary to complete the is_leap function."
      ]
    },
    {
      "cell_type": "code",
      "metadata": {
        "id": "HqleouzWl3vL"
      },
      "source": [
        "def leap_year(n):\n",
        "  if n%400 == 0:\n",
        "    print('True')\n",
        "  elif n%100 == 0:\n",
        "    print('False')\n",
        "  elif n%4==0:\n",
        "    print('True')\n",
        "  else:\n",
        "    print('False')\n",
        "  "
      ],
      "execution_count": 35,
      "outputs": []
    },
    {
      "cell_type": "code",
      "metadata": {
        "colab": {
          "base_uri": "https://localhost:8080/"
        },
        "id": "ApoDFr-tf2rR",
        "outputId": "57b53839-9af3-4195-b3a3-0ff635c955e2"
      },
      "source": [
        "leap_year(2020)"
      ],
      "execution_count": 36,
      "outputs": [
        {
          "output_type": "stream",
          "text": [
            "True\n"
          ],
          "name": "stdout"
        }
      ]
    },
    {
      "cell_type": "markdown",
      "metadata": {
        "id": "o9-AwgjF_eHZ"
      },
      "source": [
        "Without using any string methods, try to print the following:\n",
        "123...n"
      ]
    },
    {
      "cell_type": "code",
      "metadata": {
        "colab": {
          "base_uri": "https://localhost:8080/"
        },
        "id": "B8o4LGLKzuPb",
        "outputId": "6b743293-e94d-4d83-8d2e-b785d9d1a9bd"
      },
      "source": [
        " print(*range(1, int(input()) +1))"
      ],
      "execution_count": 37,
      "outputs": [
        {
          "output_type": "stream",
          "text": [
            "20\n",
            "1 2 3 4 5 6 7 8 9 10 11 12 13 14 15 16 17 18 19 20\n"
          ],
          "name": "stdout"
        }
      ]
    },
    {
      "cell_type": "markdown",
      "metadata": {
        "id": "2OryfUfoAFvA"
      },
      "source": [
        "Write a code to extract each digit from an integer, in the reverse order"
      ]
    },
    {
      "cell_type": "code",
      "metadata": {
        "colab": {
          "base_uri": "https://localhost:8080/",
          "height": 180
        },
        "id": "8xaAlb0GAj5-",
        "outputId": "51e74b80-c0d9-49a6-b088-1bfbbdf4b931"
      },
      "source": [
        "a = str(7536)\n",
        "print(a[::-1],sep=\"  \")"
      ],
      "execution_count": 40,
      "outputs": [
        {
          "output_type": "error",
          "ename": "TypeError",
          "evalue": "ignored",
          "traceback": [
            "\u001b[0;31m---------------------------------------------------------------------------\u001b[0m",
            "\u001b[0;31mTypeError\u001b[0m                                 Traceback (most recent call last)",
            "\u001b[0;32m<ipython-input-40-d2034545310c>\u001b[0m in \u001b[0;36m<module>\u001b[0;34m()\u001b[0m\n\u001b[0;32m----> 1\u001b[0;31m \u001b[0ma\u001b[0m \u001b[0;34m=\u001b[0m \u001b[0mstr\u001b[0m\u001b[0;34m(\u001b[0m\u001b[0;36m7536\u001b[0m\u001b[0;34m)\u001b[0m\u001b[0;34m\u001b[0m\u001b[0;34m\u001b[0m\u001b[0m\n\u001b[0m\u001b[1;32m      2\u001b[0m \u001b[0mprint\u001b[0m\u001b[0;34m(\u001b[0m\u001b[0ma\u001b[0m\u001b[0;34m[\u001b[0m\u001b[0;34m:\u001b[0m\u001b[0;34m:\u001b[0m\u001b[0;34m-\u001b[0m\u001b[0;36m1\u001b[0m\u001b[0;34m]\u001b[0m\u001b[0;34m,\u001b[0m\u001b[0msep\u001b[0m\u001b[0;34m=\u001b[0m\u001b[0;34m\"  \"\u001b[0m\u001b[0;34m)\u001b[0m\u001b[0;34m\u001b[0m\u001b[0;34m\u001b[0m\u001b[0m\n",
            "\u001b[0;31mTypeError\u001b[0m: 'str' object is not callable"
          ]
        }
      ]
    },
    {
      "cell_type": "markdown",
      "metadata": {
        "id": "pEloQqtHFy4g"
      },
      "source": [
        "Taxable Income\tRate (in %)\n",
        "\n",
        "First $10,000 -\t0\n",
        "\n",
        "Next $10,000\t- 10\n",
        "\n",
        "The remaining\t- 20"
      ]
    },
    {
      "cell_type": "code",
      "metadata": {
        "id": "vCqyReprAxH6"
      },
      "source": [
        "def taxcalculator(amount):\n",
        "  tax = 0\n",
        "  if amount <10000:\n",
        "    tax = 0\n",
        "  elif amount > 10000 and amount < 20000:\n",
        "    b = amount-10000\n",
        "    tax = b*10/100\n",
        "  elif amount >20000:\n",
        "    z = amount-20000\n",
        "    y = 10000*10/100\n",
        "    x = z*20/100\n",
        "    tax = y+x \n",
        "  return tax\n",
        "\n"
      ],
      "execution_count": 41,
      "outputs": []
    },
    {
      "cell_type": "code",
      "metadata": {
        "colab": {
          "base_uri": "https://localhost:8080/"
        },
        "id": "a_rODGt8FtWx",
        "outputId": "4a4187af-dc54-4a9b-f58d-591aefa3844a"
      },
      "source": [
        "taxcalculator(45000)"
      ],
      "execution_count": 42,
      "outputs": [
        {
          "output_type": "execute_result",
          "data": {
            "text/plain": [
              "6000.0"
            ]
          },
          "metadata": {
            "tags": []
          },
          "execution_count": 42
        }
      ]
    },
    {
      "cell_type": "code",
      "metadata": {
        "id": "mBoSY_ZLKQaB"
      },
      "source": [
        ""
      ],
      "execution_count": null,
      "outputs": []
    }
  ]
}